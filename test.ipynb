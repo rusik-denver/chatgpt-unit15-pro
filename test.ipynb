{
 "cells": [
  {
   "cell_type": "markdown",
   "metadata": {},
   "source": [
    "## Пример использования модуля кастомного chatGPT "
   ]
  },
  {
   "cell_type": "code",
   "execution_count": 1,
   "metadata": {},
   "outputs": [
    {
     "name": "stdout",
     "output_type": "stream",
     "text": [
      "Вы можете оформить КАСКО на короткий период, начиная от 1 часа поездки, 100 км пути или на время парковки.\n"
     ]
    }
   ],
   "source": [
    "from chunks import Chunk\n",
    "\n",
    "# использование кастомного chagpt через модуль\n",
    "chunk = Chunk(path_to_base=\"Simble.txt\")\n",
    "res = chunk.get_answer(query=\"На какой минимальный срок можно оформить КАСКО?\")\n",
    "print(res)"
   ]
  },
  {
   "cell_type": "markdown",
   "metadata": {},
   "source": [
    "## Пример использования простого API"
   ]
  },
  {
   "cell_type": "code",
   "execution_count": 2,
   "metadata": {},
   "outputs": [
    {
     "name": "stdout",
     "output_type": "stream",
     "text": [
      "{\"message\":\"Hello FastAPI\"}\n"
     ]
    }
   ],
   "source": [
    "import requests\n",
    "\n",
    "# запросы в fastapi_example\n",
    "response = requests.get(\"http://127.0.0.1:5000/\")\n",
    "print(response.text)"
   ]
  },
  {
   "cell_type": "code",
   "execution_count": 3,
   "metadata": {},
   "outputs": [
    {
     "name": "stdout",
     "output_type": "stream",
     "text": [
      "{\"message\":\"Страница с описанием проекта\"}\n"
     ]
    }
   ],
   "source": [
    "# запросы в fastapi_example\n",
    "response = requests.get(\"http://127.0.0.1:5000/about\")\n",
    "print(response.text)"
   ]
  },
  {
   "cell_type": "code",
   "execution_count": 4,
   "metadata": {},
   "outputs": [
    {
     "name": "stdout",
     "output_type": "stream",
     "text": [
      "{\"user_id\":\"85\"}\n"
     ]
    }
   ],
   "source": [
    "# запросы в fastapi_example\n",
    "response = requests.get(\"http://127.0.0.1:5000/users/85\")\n",
    "print(response.text)"
   ]
  },
  {
   "cell_type": "code",
   "execution_count": 5,
   "metadata": {},
   "outputs": [
    {
     "name": "stdout",
     "output_type": "stream",
     "text": [
      "{\"user_name\":\"Mikhail\",\"description\":\"good item\",\"price\":42.3}\n"
     ]
    }
   ],
   "source": [
    "# запросы в fastapi_example\n",
    "payload={\"name\":\"Mikhail\", \"description\":\"good item\", \"price\":42.3}\n",
    "response = requests.post(\"http://127.0.0.1:5000/users\", json=payload)\n",
    "print(response.text)"
   ]
  },
  {
   "cell_type": "markdown",
   "metadata": {},
   "source": [
    "## Пример использования API с кастомным chatGPT "
   ]
  },
  {
   "cell_type": "code",
   "execution_count": 11,
   "metadata": {},
   "outputs": [
    {
     "name": "stdout",
     "output_type": "stream",
     "text": [
      "{\"message\":\"Извините за недоразумение, но я могу помочь вам с информацией о страховании, услугах компании Simble или других вопросах, но не могу предоставить информацию о погоде. Если у вас есть другие вопросы, пожалуйста, задавайте, и я постараюсь помочь вам наилучшим образом.\"}\n",
      "{\"message\":\"Мы специализируемся на анализе данных и работе с большими объемами информации. Наши сотрудники обладают сильными аналитическими и проблемно-ориентированными навыками, отличаются хорошими коммуникационными способностями и умением строить сотрудничество. Мы также разрабатываем стратегии монетизации данных и ведем коммерческие переговоры. Наша компания работает в различных отраслях, включая банковский, розничный и страховой сектора. Мы также используем инструменты визуализации данных, такие как Tableau и PowerBI, что является дополнительным плюсом.\"}\n"
     ]
    }
   ],
   "source": [
    "import requests\n",
    "\n",
    "# использование кастомного chatgpt через кастомный api\n",
    "payload = {\"text\":\"Расскажи про погоду?\"}\n",
    "response = requests.post(\"http://127.0.0.1:5000/api/get_answer\", json=payload)\n",
    "payload1 = {\"text\":\"Расскажи что умеешь?\"}\n",
    "response1 = requests.post(\"http://127.0.0.1:5000/api/get_answer\", json=payload1)\n",
    "\n",
    "print(response.text)\n",
    "print(response1.text)"
   ]
  },
  {
   "cell_type": "code",
   "execution_count": null,
   "metadata": {},
   "outputs": [],
   "source": []
  }
 ],
 "metadata": {
  "kernelspec": {
   "display_name": "base",
   "language": "python",
   "name": "python3"
  },
  "language_info": {
   "codemirror_mode": {
    "name": "ipython",
    "version": 3
   },
   "file_extension": ".py",
   "mimetype": "text/x-python",
   "name": "python",
   "nbconvert_exporter": "python",
   "pygments_lexer": "ipython3",
   "version": "3.11.8"
  }
 },
 "nbformat": 4,
 "nbformat_minor": 2
}
