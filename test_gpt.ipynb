{
 "cells": [
  {
   "cell_type": "code",
   "execution_count": 4,
   "metadata": {},
   "outputs": [],
   "source": [
    "from chunks import Chunk\n",
    "import requests"
   ]
  },
  {
   "cell_type": "code",
   "execution_count": 5,
   "metadata": {},
   "outputs": [
    {
     "name": "stdout",
     "output_type": "stream",
     "text": [
      "{\"message\":\"answer\"}\n"
     ]
    }
   ],
   "source": [
    "response = requests.get(\"http://127.0.0.1:5000/\")\n",
    "print(response.text)"
   ]
  },
  {
   "cell_type": "code",
   "execution_count": 6,
   "metadata": {},
   "outputs": [
    {
     "name": "stdout",
     "output_type": "stream",
     "text": [
      "Internal Server Error\n",
      "Internal Server Error\n"
     ]
    }
   ],
   "source": [
    "payload1 = {\"text\":\"По каким рискам можно офрмить страховку?\"}\n",
    "response1 = requests.post(\"http://127.0.0.1:5000/api/get_answer\", json=payload1)\n",
    "\n",
    "payload2 = {\"text\":\"Какие случаи не являются страховыми?\"}\n",
    "response2 = requests.post(\"http://127.0.0.1:5000/api/get_answer\", json=payload2)\n",
    "\n",
    "print(response1.text)\n",
    "print(response2.text)"
   ]
  },
  {
   "cell_type": "code",
   "execution_count": null,
   "metadata": {},
   "outputs": [],
   "source": [
    "response = requests.get(\"http://127.0.0.1:5000/requests-counter\")\n",
    "print(response.text)"
   ]
  }
 ],
 "metadata": {
  "kernelspec": {
   "display_name": "venv",
   "language": "python",
   "name": "python3"
  },
  "language_info": {
   "codemirror_mode": {
    "name": "ipython",
    "version": 3
   },
   "file_extension": ".py",
   "mimetype": "text/x-python",
   "name": "python",
   "nbconvert_exporter": "python",
   "pygments_lexer": "ipython3",
   "version": "3.12.3"
  }
 },
 "nbformat": 4,
 "nbformat_minor": 2
}
